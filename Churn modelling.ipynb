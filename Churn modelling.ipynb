{
 "cells": [
  {
   "cell_type": "markdown",
   "metadata": {},
   "source": [
    "# Churn modelling analysis \n",
    "\n",
    "### Overview\n",
    "We aim to create a model to determine if a customer decides to terminate his bank membership. \n",
    "\n",
    "Source: https://www.kaggle.com/shrutimechlearn/churn-modelling"
   ]
  },
  {
   "cell_type": "markdown",
   "metadata": {},
   "source": [
    "#### Steps:\n",
    "1. Data cleaning\n",
    "2. Exploratory data analysis\n",
    "3. Encoding categorical data\n",
    "4. Splitting data into training and test set\n",
    "5. Feature scaling\n",
    "6. Applying logistic regression\n",
    "7. Applying artificial neural networks\n",
    "8. Making a single prediction"
   ]
  },
  {
   "cell_type": "code",
   "execution_count": 1,
   "metadata": {},
   "outputs": [],
   "source": [
    "import pandas as pd\n",
    "import numpy as np\n",
    "import seaborn as sns\n",
    "import matplotlib.pyplot as plt"
   ]
  },
  {
   "cell_type": "code",
   "execution_count": 2,
   "metadata": {},
   "outputs": [],
   "source": [
    "df = pd.read_csv('Churn_Modelling.csv')"
   ]
  },
  {
   "cell_type": "code",
   "execution_count": 3,
   "metadata": {},
   "outputs": [
    {
     "data": {
      "text/html": [
       "<div>\n",
       "<style scoped>\n",
       "    .dataframe tbody tr th:only-of-type {\n",
       "        vertical-align: middle;\n",
       "    }\n",
       "\n",
       "    .dataframe tbody tr th {\n",
       "        vertical-align: top;\n",
       "    }\n",
       "\n",
       "    .dataframe thead th {\n",
       "        text-align: right;\n",
       "    }\n",
       "</style>\n",
       "<table border=\"1\" class=\"dataframe\">\n",
       "  <thead>\n",
       "    <tr style=\"text-align: right;\">\n",
       "      <th></th>\n",
       "      <th>RowNumber</th>\n",
       "      <th>CustomerId</th>\n",
       "      <th>Surname</th>\n",
       "      <th>CreditScore</th>\n",
       "      <th>Geography</th>\n",
       "      <th>Gender</th>\n",
       "      <th>Age</th>\n",
       "      <th>Tenure</th>\n",
       "      <th>Balance</th>\n",
       "      <th>NumOfProducts</th>\n",
       "      <th>HasCrCard</th>\n",
       "      <th>IsActiveMember</th>\n",
       "      <th>EstimatedSalary</th>\n",
       "      <th>Exited</th>\n",
       "    </tr>\n",
       "  </thead>\n",
       "  <tbody>\n",
       "    <tr>\n",
       "      <th>0</th>\n",
       "      <td>1</td>\n",
       "      <td>15634602</td>\n",
       "      <td>Hargrave</td>\n",
       "      <td>619</td>\n",
       "      <td>France</td>\n",
       "      <td>Female</td>\n",
       "      <td>42</td>\n",
       "      <td>2</td>\n",
       "      <td>0.00</td>\n",
       "      <td>1</td>\n",
       "      <td>1</td>\n",
       "      <td>1</td>\n",
       "      <td>101348.88</td>\n",
       "      <td>1</td>\n",
       "    </tr>\n",
       "    <tr>\n",
       "      <th>1</th>\n",
       "      <td>2</td>\n",
       "      <td>15647311</td>\n",
       "      <td>Hill</td>\n",
       "      <td>608</td>\n",
       "      <td>Spain</td>\n",
       "      <td>Female</td>\n",
       "      <td>41</td>\n",
       "      <td>1</td>\n",
       "      <td>83807.86</td>\n",
       "      <td>1</td>\n",
       "      <td>0</td>\n",
       "      <td>1</td>\n",
       "      <td>112542.58</td>\n",
       "      <td>0</td>\n",
       "    </tr>\n",
       "    <tr>\n",
       "      <th>2</th>\n",
       "      <td>3</td>\n",
       "      <td>15619304</td>\n",
       "      <td>Onio</td>\n",
       "      <td>502</td>\n",
       "      <td>France</td>\n",
       "      <td>Female</td>\n",
       "      <td>42</td>\n",
       "      <td>8</td>\n",
       "      <td>159660.80</td>\n",
       "      <td>3</td>\n",
       "      <td>1</td>\n",
       "      <td>0</td>\n",
       "      <td>113931.57</td>\n",
       "      <td>1</td>\n",
       "    </tr>\n",
       "    <tr>\n",
       "      <th>3</th>\n",
       "      <td>4</td>\n",
       "      <td>15701354</td>\n",
       "      <td>Boni</td>\n",
       "      <td>699</td>\n",
       "      <td>France</td>\n",
       "      <td>Female</td>\n",
       "      <td>39</td>\n",
       "      <td>1</td>\n",
       "      <td>0.00</td>\n",
       "      <td>2</td>\n",
       "      <td>0</td>\n",
       "      <td>0</td>\n",
       "      <td>93826.63</td>\n",
       "      <td>0</td>\n",
       "    </tr>\n",
       "    <tr>\n",
       "      <th>4</th>\n",
       "      <td>5</td>\n",
       "      <td>15737888</td>\n",
       "      <td>Mitchell</td>\n",
       "      <td>850</td>\n",
       "      <td>Spain</td>\n",
       "      <td>Female</td>\n",
       "      <td>43</td>\n",
       "      <td>2</td>\n",
       "      <td>125510.82</td>\n",
       "      <td>1</td>\n",
       "      <td>1</td>\n",
       "      <td>1</td>\n",
       "      <td>79084.10</td>\n",
       "      <td>0</td>\n",
       "    </tr>\n",
       "  </tbody>\n",
       "</table>\n",
       "</div>"
      ],
      "text/plain": [
       "   RowNumber  CustomerId   Surname  CreditScore Geography  Gender  Age  \\\n",
       "0          1    15634602  Hargrave          619    France  Female   42   \n",
       "1          2    15647311      Hill          608     Spain  Female   41   \n",
       "2          3    15619304      Onio          502    France  Female   42   \n",
       "3          4    15701354      Boni          699    France  Female   39   \n",
       "4          5    15737888  Mitchell          850     Spain  Female   43   \n",
       "\n",
       "   Tenure    Balance  NumOfProducts  HasCrCard  IsActiveMember  \\\n",
       "0       2       0.00              1          1               1   \n",
       "1       1   83807.86              1          0               1   \n",
       "2       8  159660.80              3          1               0   \n",
       "3       1       0.00              2          0               0   \n",
       "4       2  125510.82              1          1               1   \n",
       "\n",
       "   EstimatedSalary  Exited  \n",
       "0        101348.88       1  \n",
       "1        112542.58       0  \n",
       "2        113931.57       1  \n",
       "3         93826.63       0  \n",
       "4         79084.10       0  "
      ]
     },
     "execution_count": 3,
     "metadata": {},
     "output_type": "execute_result"
    }
   ],
   "source": [
    "df.head()"
   ]
  },
  {
   "cell_type": "markdown",
   "metadata": {},
   "source": [
    "### 1. Data cleaning"
   ]
  },
  {
   "cell_type": "code",
   "execution_count": 4,
   "metadata": {},
   "outputs": [],
   "source": [
    "# Removing unnecessary rows \n",
    "to_drop = ['RowNumber','CustomerId','Surname']"
   ]
  },
  {
   "cell_type": "code",
   "execution_count": 5,
   "metadata": {},
   "outputs": [],
   "source": [
    "df = df.drop(to_drop,axis=1)"
   ]
  },
  {
   "cell_type": "code",
   "execution_count": 6,
   "metadata": {},
   "outputs": [
    {
     "data": {
      "text/html": [
       "<div>\n",
       "<style scoped>\n",
       "    .dataframe tbody tr th:only-of-type {\n",
       "        vertical-align: middle;\n",
       "    }\n",
       "\n",
       "    .dataframe tbody tr th {\n",
       "        vertical-align: top;\n",
       "    }\n",
       "\n",
       "    .dataframe thead th {\n",
       "        text-align: right;\n",
       "    }\n",
       "</style>\n",
       "<table border=\"1\" class=\"dataframe\">\n",
       "  <thead>\n",
       "    <tr style=\"text-align: right;\">\n",
       "      <th></th>\n",
       "      <th>CreditScore</th>\n",
       "      <th>Geography</th>\n",
       "      <th>Gender</th>\n",
       "      <th>Age</th>\n",
       "      <th>Tenure</th>\n",
       "      <th>Balance</th>\n",
       "      <th>NumOfProducts</th>\n",
       "      <th>HasCrCard</th>\n",
       "      <th>IsActiveMember</th>\n",
       "      <th>EstimatedSalary</th>\n",
       "      <th>Exited</th>\n",
       "    </tr>\n",
       "  </thead>\n",
       "  <tbody>\n",
       "    <tr>\n",
       "      <th>0</th>\n",
       "      <td>619</td>\n",
       "      <td>France</td>\n",
       "      <td>Female</td>\n",
       "      <td>42</td>\n",
       "      <td>2</td>\n",
       "      <td>0.00</td>\n",
       "      <td>1</td>\n",
       "      <td>1</td>\n",
       "      <td>1</td>\n",
       "      <td>101348.88</td>\n",
       "      <td>1</td>\n",
       "    </tr>\n",
       "    <tr>\n",
       "      <th>1</th>\n",
       "      <td>608</td>\n",
       "      <td>Spain</td>\n",
       "      <td>Female</td>\n",
       "      <td>41</td>\n",
       "      <td>1</td>\n",
       "      <td>83807.86</td>\n",
       "      <td>1</td>\n",
       "      <td>0</td>\n",
       "      <td>1</td>\n",
       "      <td>112542.58</td>\n",
       "      <td>0</td>\n",
       "    </tr>\n",
       "    <tr>\n",
       "      <th>2</th>\n",
       "      <td>502</td>\n",
       "      <td>France</td>\n",
       "      <td>Female</td>\n",
       "      <td>42</td>\n",
       "      <td>8</td>\n",
       "      <td>159660.80</td>\n",
       "      <td>3</td>\n",
       "      <td>1</td>\n",
       "      <td>0</td>\n",
       "      <td>113931.57</td>\n",
       "      <td>1</td>\n",
       "    </tr>\n",
       "    <tr>\n",
       "      <th>3</th>\n",
       "      <td>699</td>\n",
       "      <td>France</td>\n",
       "      <td>Female</td>\n",
       "      <td>39</td>\n",
       "      <td>1</td>\n",
       "      <td>0.00</td>\n",
       "      <td>2</td>\n",
       "      <td>0</td>\n",
       "      <td>0</td>\n",
       "      <td>93826.63</td>\n",
       "      <td>0</td>\n",
       "    </tr>\n",
       "    <tr>\n",
       "      <th>4</th>\n",
       "      <td>850</td>\n",
       "      <td>Spain</td>\n",
       "      <td>Female</td>\n",
       "      <td>43</td>\n",
       "      <td>2</td>\n",
       "      <td>125510.82</td>\n",
       "      <td>1</td>\n",
       "      <td>1</td>\n",
       "      <td>1</td>\n",
       "      <td>79084.10</td>\n",
       "      <td>0</td>\n",
       "    </tr>\n",
       "  </tbody>\n",
       "</table>\n",
       "</div>"
      ],
      "text/plain": [
       "   CreditScore Geography  Gender  Age  Tenure    Balance  NumOfProducts  \\\n",
       "0          619    France  Female   42       2       0.00              1   \n",
       "1          608     Spain  Female   41       1   83807.86              1   \n",
       "2          502    France  Female   42       8  159660.80              3   \n",
       "3          699    France  Female   39       1       0.00              2   \n",
       "4          850     Spain  Female   43       2  125510.82              1   \n",
       "\n",
       "   HasCrCard  IsActiveMember  EstimatedSalary  Exited  \n",
       "0          1               1        101348.88       1  \n",
       "1          0               1        112542.58       0  \n",
       "2          1               0        113931.57       1  \n",
       "3          0               0         93826.63       0  \n",
       "4          1               1         79084.10       0  "
      ]
     },
     "execution_count": 6,
     "metadata": {},
     "output_type": "execute_result"
    }
   ],
   "source": [
    "df.head()"
   ]
  },
  {
   "cell_type": "code",
   "execution_count": 7,
   "metadata": {},
   "outputs": [
    {
     "data": {
      "text/plain": [
       "CreditScore        0\n",
       "Geography          0\n",
       "Gender             0\n",
       "Age                0\n",
       "Tenure             0\n",
       "Balance            0\n",
       "NumOfProducts      0\n",
       "HasCrCard          0\n",
       "IsActiveMember     0\n",
       "EstimatedSalary    0\n",
       "Exited             0\n",
       "dtype: int64"
      ]
     },
     "execution_count": 7,
     "metadata": {},
     "output_type": "execute_result"
    }
   ],
   "source": [
    "# Checking for any null values\n",
    "df.isnull().sum()"
   ]
  },
  {
   "cell_type": "markdown",
   "metadata": {},
   "source": [
    "### 2. Exploratory data analysis"
   ]
  },
  {
   "cell_type": "code",
   "execution_count": 8,
   "metadata": {},
   "outputs": [
    {
     "data": {
      "text/plain": [
       "Text(0.5, 1.0, 'Credit Score')"
      ]
     },
     "execution_count": 8,
     "metadata": {},
     "output_type": "execute_result"
    },
    {
     "data": {
      "image/png": "[encoded data removed]",
      "text/plain": [
       "<Figure size 1296x288 with 4 Axes>"
      ]
     },
     "metadata": {
      "needs_background": "light"
     },
     "output_type": "display_data"
    }
   ],
   "source": [
    "# Distribution plots \n",
    "plt.figure(figsize = (18,4))\n",
    "\n",
    "plt.subplot(1,4,1)\n",
    "sns.distplot(df['EstimatedSalary'], kde = False)\n",
    "plt.title('Estimated Salary')\n",
    "\n",
    "plt.subplot(1,4,2)\n",
    "sns.distplot(df['Balance'], kde = False)\n",
    "plt.title('Account balance')\n",
    "\n",
    "plt.subplot(1,4,3)\n",
    "sns.distplot(df['Tenure'], kde = False, bins = 10)\n",
    "plt.title('Tenure')\n",
    "\n",
    "plt.subplot(1,4,4)\n",
    "sns.distplot(df['CreditScore'], kde = False)\n",
    "plt.title('Credit Score')"
   ]
  },
  {
   "cell_type": "code",
   "execution_count": 9,
   "metadata": {},
   "outputs": [
    {
     "data": {
      "text/plain": [
       "Text(0.5, 1.0, 'Country')"
      ]
     },
     "execution_count": 9,
     "metadata": {},
     "output_type": "execute_result"
    },
    {
     "data": {
      "image/png": "[encoded data removed]",
      "text/plain": [
       "<Figure size 864x288 with 2 Axes>"
      ]
     },
     "metadata": {
      "needs_background": "light"
     },
     "output_type": "display_data"
    }
   ],
   "source": [
    "# Demographics\n",
    "plt.figure(figsize = (12,4))\n",
    "\n",
    "plt.subplot(1,2,1)\n",
    "sns.countplot(df['Gender'])\n",
    "plt.title('Gender')\n",
    "\n",
    "plt.subplot(1,2,2)\n",
    "sns.countplot(df['Geography'])\n",
    "plt.title('Country')"
   ]
  },
  {
   "cell_type": "markdown",
   "metadata": {},
   "source": [
    "### 3. Encoding categorical data "
   ]
  },
  {
   "cell_type": "code",
   "execution_count": 10,
   "metadata": {},
   "outputs": [
    {
     "data": {
      "text/html": [
       "<div>\n",
       "<style scoped>\n",
       "    .dataframe tbody tr th:only-of-type {\n",
       "        vertical-align: middle;\n",
       "    }\n",
       "\n",
       "    .dataframe tbody tr th {\n",
       "        vertical-align: top;\n",
       "    }\n",
       "\n",
       "    .dataframe thead th {\n",
       "        text-align: right;\n",
       "    }\n",
       "</style>\n",
       "<table border=\"1\" class=\"dataframe\">\n",
       "  <thead>\n",
       "    <tr style=\"text-align: right;\">\n",
       "      <th></th>\n",
       "      <th>Geography_Germany</th>\n",
       "      <th>Geography_Spain</th>\n",
       "      <th>Gender_Male</th>\n",
       "    </tr>\n",
       "  </thead>\n",
       "  <tbody>\n",
       "    <tr>\n",
       "      <th>0</th>\n",
       "      <td>0</td>\n",
       "      <td>0</td>\n",
       "      <td>0</td>\n",
       "    </tr>\n",
       "    <tr>\n",
       "      <th>1</th>\n",
       "      <td>0</td>\n",
       "      <td>1</td>\n",
       "      <td>0</td>\n",
       "    </tr>\n",
       "    <tr>\n",
       "      <th>2</th>\n",
       "      <td>0</td>\n",
       "      <td>0</td>\n",
       "      <td>0</td>\n",
       "    </tr>\n",
       "    <tr>\n",
       "      <th>3</th>\n",
       "      <td>0</td>\n",
       "      <td>0</td>\n",
       "      <td>0</td>\n",
       "    </tr>\n",
       "    <tr>\n",
       "      <th>4</th>\n",
       "      <td>0</td>\n",
       "      <td>1</td>\n",
       "      <td>0</td>\n",
       "    </tr>\n",
       "  </tbody>\n",
       "</table>\n",
       "</div>"
      ],
      "text/plain": [
       "   Geography_Germany  Geography_Spain  Gender_Male\n",
       "0                  0                0            0\n",
       "1                  0                1            0\n",
       "2                  0                0            0\n",
       "3                  0                0            0\n",
       "4                  0                1            0"
      ]
     },
     "execution_count": 10,
     "metadata": {},
     "output_type": "execute_result"
    }
   ],
   "source": [
    "dummies = pd.get_dummies(df[['Geography','Gender']], drop_first=True)\n",
    "dummies.head()"
   ]
  },
  {
   "cell_type": "code",
   "execution_count": 11,
   "metadata": {},
   "outputs": [],
   "source": [
    "df = pd.concat([dummies, df], axis=1)"
   ]
  },
  {
   "cell_type": "code",
   "execution_count": 12,
   "metadata": {},
   "outputs": [
    {
     "data": {
      "text/html": [
       "<div>\n",
       "<style scoped>\n",
       "    .dataframe tbody tr th:only-of-type {\n",
       "        vertical-align: middle;\n",
       "    }\n",
       "\n",
       "    .dataframe tbody tr th {\n",
       "        vertical-align: top;\n",
       "    }\n",
       "\n",
       "    .dataframe thead th {\n",
       "        text-align: right;\n",
       "    }\n",
       "</style>\n",
       "<table border=\"1\" class=\"dataframe\">\n",
       "  <thead>\n",
       "    <tr style=\"text-align: right;\">\n",
       "      <th></th>\n",
       "      <th>Geography_Germany</th>\n",
       "      <th>Geography_Spain</th>\n",
       "      <th>Gender_Male</th>\n",
       "      <th>CreditScore</th>\n",
       "      <th>Geography</th>\n",
       "      <th>Gender</th>\n",
       "      <th>Age</th>\n",
       "      <th>Tenure</th>\n",
       "      <th>Balance</th>\n",
       "      <th>NumOfProducts</th>\n",
       "      <th>HasCrCard</th>\n",
       "      <th>IsActiveMember</th>\n",
       "      <th>EstimatedSalary</th>\n",
       "      <th>Exited</th>\n",
       "    </tr>\n",
       "  </thead>\n",
       "  <tbody>\n",
       "    <tr>\n",
       "      <th>0</th>\n",
       "      <td>0</td>\n",
       "      <td>0</td>\n",
       "      <td>0</td>\n",
       "      <td>619</td>\n",
       "      <td>France</td>\n",
       "      <td>Female</td>\n",
       "      <td>42</td>\n",
       "      <td>2</td>\n",
       "      <td>0.00</td>\n",
       "      <td>1</td>\n",
       "      <td>1</td>\n",
       "      <td>1</td>\n",
       "      <td>101348.88</td>\n",
       "      <td>1</td>\n",
       "    </tr>\n",
       "    <tr>\n",
       "      <th>1</th>\n",
       "      <td>0</td>\n",
       "      <td>1</td>\n",
       "      <td>0</td>\n",
       "      <td>608</td>\n",
       "      <td>Spain</td>\n",
       "      <td>Female</td>\n",
       "      <td>41</td>\n",
       "      <td>1</td>\n",
       "      <td>83807.86</td>\n",
       "      <td>1</td>\n",
       "      <td>0</td>\n",
       "      <td>1</td>\n",
       "      <td>112542.58</td>\n",
       "      <td>0</td>\n",
       "    </tr>\n",
       "    <tr>\n",
       "      <th>2</th>\n",
       "      <td>0</td>\n",
       "      <td>0</td>\n",
       "      <td>0</td>\n",
       "      <td>502</td>\n",
       "      <td>France</td>\n",
       "      <td>Female</td>\n",
       "      <td>42</td>\n",
       "      <td>8</td>\n",
       "      <td>159660.80</td>\n",
       "      <td>3</td>\n",
       "      <td>1</td>\n",
       "      <td>0</td>\n",
       "      <td>113931.57</td>\n",
       "      <td>1</td>\n",
       "    </tr>\n",
       "    <tr>\n",
       "      <th>3</th>\n",
       "      <td>0</td>\n",
       "      <td>0</td>\n",
       "      <td>0</td>\n",
       "      <td>699</td>\n",
       "      <td>France</td>\n",
       "      <td>Female</td>\n",
       "      <td>39</td>\n",
       "      <td>1</td>\n",
       "      <td>0.00</td>\n",
       "      <td>2</td>\n",
       "      <td>0</td>\n",
       "      <td>0</td>\n",
       "      <td>93826.63</td>\n",
       "      <td>0</td>\n",
       "    </tr>\n",
       "    <tr>\n",
       "      <th>4</th>\n",
       "      <td>0</td>\n",
       "      <td>1</td>\n",
       "      <td>0</td>\n",
       "      <td>850</td>\n",
       "      <td>Spain</td>\n",
       "      <td>Female</td>\n",
       "      <td>43</td>\n",
       "      <td>2</td>\n",
       "      <td>125510.82</td>\n",
       "      <td>1</td>\n",
       "      <td>1</td>\n",
       "      <td>1</td>\n",
       "      <td>79084.10</td>\n",
       "      <td>0</td>\n",
       "    </tr>\n",
       "  </tbody>\n",
       "</table>\n",
       "</div>"
      ],
      "text/plain": [
       "   Geography_Germany  Geography_Spain  Gender_Male  CreditScore Geography  \\\n",
       "0                  0                0            0          619    France   \n",
       "1                  0                1            0          608     Spain   \n",
       "2                  0                0            0          502    France   \n",
       "3                  0                0            0          699    France   \n",
       "4                  0                1            0          850     Spain   \n",
       "\n",
       "   Gender  Age  Tenure    Balance  NumOfProducts  HasCrCard  IsActiveMember  \\\n",
       "0  Female   42       2       0.00              1          1               1   \n",
       "1  Female   41       1   83807.86              1          0               1   \n",
       "2  Female   42       8  159660.80              3          1               0   \n",
       "3  Female   39       1       0.00              2          0               0   \n",
       "4  Female   43       2  125510.82              1          1               1   \n",
       "\n",
       "   EstimatedSalary  Exited  \n",
       "0        101348.88       1  \n",
       "1        112542.58       0  \n",
       "2        113931.57       1  \n",
       "3         93826.63       0  \n",
       "4         79084.10       0  "
      ]
     },
     "execution_count": 12,
     "metadata": {},
     "output_type": "execute_result"
    }
   ],
   "source": [
    "df.head()"
   ]
  },
  {
   "cell_type": "code",
   "execution_count": 13,
   "metadata": {},
   "outputs": [],
   "source": [
    "# Dropping columns that have been encoded \n",
    "df = df.drop(['Geography', 'Gender'], axis=1)"
   ]
  },
  {
   "cell_type": "code",
   "execution_count": 14,
   "metadata": {},
   "outputs": [
    {
     "data": {
      "text/plain": [
       "<matplotlib.axes._subplots.AxesSubplot at 0x1dc2a4fce08>"
      ]
     },
     "execution_count": 14,
     "metadata": {},
     "output_type": "execute_result"
    },
    {
     "data": {
      "image/png": "[encoded data removed]",
      "text/plain": [
       "<Figure size 432x288 with 1 Axes>"
      ]
     },
     "metadata": {
      "needs_background": "light"
     },
     "output_type": "display_data"
    }
   ],
   "source": [
    "# Correlation graph\n",
    "df.corr()['Exited'][:-1].sort_values().plot(kind='bar')"
   ]
  },
  {
   "cell_type": "markdown",
   "metadata": {},
   "source": [
    "#### Top 3 factors affecting churn rate:\n",
    "\n",
    "1. Age of the customer\n",
    "2. If the customer is living in Germany\n",
    "3. If the customer is an active member of the bank"
   ]
  },
  {
   "cell_type": "markdown",
   "metadata": {},
   "source": [
    "### 4. Splitting into training and test set"
   ]
  },
  {
   "cell_type": "code",
   "execution_count": 15,
   "metadata": {},
   "outputs": [],
   "source": [
    "X = df.drop(['Exited'],axis=1).values\n",
    "y = df['Exited'].values"
   ]
  },
  {
   "cell_type": "code",
   "execution_count": 16,
   "metadata": {},
   "outputs": [],
   "source": [
    "from sklearn.model_selection import train_test_split"
   ]
  },
  {
   "cell_type": "code",
   "execution_count": 17,
   "metadata": {},
   "outputs": [],
   "source": [
    "X_train, X_test, y_train, y_test = train_test_split(X,y,test_size=0.25,random_state=101)"
   ]
  },
  {
   "cell_type": "markdown",
   "metadata": {},
   "source": [
    "### 5. Feature scaling"
   ]
  },
  {
   "cell_type": "code",
   "execution_count": 18,
   "metadata": {},
   "outputs": [],
   "source": [
    "from sklearn.preprocessing import MinMaxScaler"
   ]
  },
  {
   "cell_type": "code",
   "execution_count": 19,
   "metadata": {},
   "outputs": [],
   "source": [
    "scaler = MinMaxScaler()"
   ]
  },
  {
   "cell_type": "code",
   "execution_count": 20,
   "metadata": {},
   "outputs": [
    {
     "data": {
      "text/plain": [
       "MinMaxScaler(copy=True, feature_range=(0, 1))"
      ]
     },
     "execution_count": 20,
     "metadata": {},
     "output_type": "execute_result"
    }
   ],
   "source": [
    "scaler.fit(X_train)"
   ]
  },
  {
   "cell_type": "code",
   "execution_count": 21,
   "metadata": {},
   "outputs": [],
   "source": [
    "X_train = scaler.transform(X_train)\n",
    "X_test = scaler.transform(X_test)"
   ]
  },
  {
   "cell_type": "code",
   "execution_count": 22,
   "metadata": {},
   "outputs": [
    {
     "data": {
      "text/plain": [
       "(7500, 11)"
      ]
     },
     "execution_count": 22,
     "metadata": {},
     "output_type": "execute_result"
    }
   ],
   "source": [
    "X_train.shape"
   ]
  },
  {
   "cell_type": "markdown",
   "metadata": {},
   "source": [
    "### 6. Applying logistic regression "
   ]
  },
  {
   "cell_type": "code",
   "execution_count": 23,
   "metadata": {},
   "outputs": [],
   "source": [
    "from sklearn.linear_model import LogisticRegression"
   ]
  },
  {
   "cell_type": "code",
   "execution_count": 24,
   "metadata": {},
   "outputs": [
    {
     "data": {
      "text/plain": [
       "LogisticRegression(C=1.0, class_weight=None, dual=False, fit_intercept=True,\n",
       "                   intercept_scaling=1, l1_ratio=None, max_iter=100,\n",
       "                   multi_class='auto', n_jobs=None, penalty='l2',\n",
       "                   random_state=None, solver='lbfgs', tol=0.0001, verbose=0,\n",
       "                   warm_start=False)"
      ]
     },
     "execution_count": 24,
     "metadata": {},
     "output_type": "execute_result"
    }
   ],
   "source": [
    "logmodel = LogisticRegression()\n",
    "logmodel.fit(X_train,y_train)"
   ]
  },
  {
   "cell_type": "code",
   "execution_count": 25,
   "metadata": {},
   "outputs": [],
   "source": [
    "log_predictions = logmodel.predict(X_test)"
   ]
  },
  {
   "cell_type": "code",
   "execution_count": 26,
   "metadata": {},
   "outputs": [],
   "source": [
    "from sklearn import metrics"
   ]
  },
  {
   "cell_type": "code",
   "execution_count": 27,
   "metadata": {},
   "outputs": [
    {
     "name": "stdout",
     "output_type": "stream",
     "text": [
      "              precision    recall  f1-score   support\n",
      "\n",
      "           0       0.82      0.97      0.89      1975\n",
      "           1       0.65      0.19      0.30       525\n",
      "\n",
      "    accuracy                           0.81      2500\n",
      "   macro avg       0.73      0.58      0.59      2500\n",
      "weighted avg       0.78      0.81      0.77      2500\n",
      "\n",
      "[[1919   56]\n",
      " [ 423  102]]\n",
      "\n",
      "Accuracy:  0.81\n"
     ]
    }
   ],
   "source": [
    "print(metrics.classification_report(y_test,log_predictions))\n",
    "print(metrics.confusion_matrix(y_test,log_predictions))\n",
    "print('')\n",
    "print('Accuracy: ', metrics.accuracy_score(y_test,log_predictions).round(2))"
   ]
  },
  {
   "cell_type": "markdown",
   "metadata": {},
   "source": [
    "### 7. Applying artifical neural networks"
   ]
  },
  {
   "cell_type": "code",
   "execution_count": 28,
   "metadata": {},
   "outputs": [],
   "source": [
    "import tensorflow as tf\n",
    "from tensorflow.keras.models import Sequential\n",
    "from tensorflow.keras.layers import Dense, Activation,Dropout"
   ]
  },
  {
   "cell_type": "code",
   "execution_count": 29,
   "metadata": {},
   "outputs": [],
   "source": [
    "model = Sequential()\n",
    "\n",
    "# Units = 11 in the first layer since we have 11 features as seen from X_train.shape\n",
    "model.add(Dense(units=11,activation='relu'))\n",
    "\n",
    "model.add(Dense(units=5,activation='relu'))\n",
    "\n",
    "# Units = 1, activation = 'sigmoid' and loss = binary_crossentropy since we are predicting a binary outcome\n",
    "model.add(Dense(units=1,activation='sigmoid'))\n",
    "\n",
    "model.compile(loss='binary_crossentropy', optimizer='adam', metrics = ['accuracy'])"
   ]
  },
  {
   "cell_type": "code",
   "execution_count": 30,
   "metadata": {},
   "outputs": [],
   "source": [
    "# Early stopping to prevent overfitting \n",
    "from tensorflow.keras.callbacks import EarlyStopping\n",
    "early_stop = EarlyStopping(monitor='val_loss', mode='min', verbose=1, patience=25)"
   ]
  },
  {
   "cell_type": "code",
   "execution_count": 31,
   "metadata": {},
   "outputs": [
    {
     "name": "stdout",
     "output_type": "stream",
     "text": [
      "Train on 6000 samples, validate on 1500 samples\n",
      "Epoch 1/1000\n",
      "6000/6000 [==============================] - 2s 378us/sample - loss: 0.6327 - accuracy: 0.6302 - val_loss: 0.4895 - val_accuracy: 0.8073\n",
      "Epoch 2/1000\n",
      "6000/6000 [==============================] - 1s 106us/sample - loss: 0.4853 - accuracy: 0.7962 - val_loss: 0.4597 - val_accuracy: 0.8073\n",
      "Epoch 3/1000\n",
      "6000/6000 [==============================] - 1s 118us/sample - loss: 0.4670 - accuracy: 0.8002 - val_loss: 0.4487 - val_accuracy: 0.8120\n",
      "Epoch 4/1000\n",
      "6000/6000 [==============================] - 1s 109us/sample - loss: 0.4594 - accuracy: 0.8017 - val_loss: 0.4425 - val_accuracy: 0.8120\n",
      "Epoch 5/1000\n",
      "6000/6000 [==============================] - 1s 106us/sample - loss: 0.4548 - accuracy: 0.8008 - val_loss: 0.4388 - val_accuracy: 0.8147\n",
      "Epoch 6/1000\n",
      "6000/6000 [==============================] - 1s 106us/sample - loss: 0.4509 - accuracy: 0.8005 - val_loss: 0.4317 - val_accuracy: 0.8153\n",
      "Epoch 7/1000\n",
      "6000/6000 [==============================] - 1s 112us/sample - loss: 0.4458 - accuracy: 0.8045 - val_loss: 0.4272 - val_accuracy: 0.8180\n",
      "Epoch 8/1000\n",
      "6000/6000 [==============================] - 1s 108us/sample - loss: 0.4426 - accuracy: 0.8067 - val_loss: 0.4235 - val_accuracy: 0.8207\n",
      "Epoch 9/1000\n",
      "6000/6000 [==============================] - 1s 119us/sample - loss: 0.4396 - accuracy: 0.8092 - val_loss: 0.4198 - val_accuracy: 0.8253\n",
      "Epoch 10/1000\n",
      "6000/6000 [==============================] - 1s 111us/sample - loss: 0.4371 - accuracy: 0.8122 - val_loss: 0.4173 - val_accuracy: 0.8240\n",
      "Epoch 11/1000\n",
      "6000/6000 [==============================] - 1s 110us/sample - loss: 0.4343 - accuracy: 0.8138 - val_loss: 0.4145 - val_accuracy: 0.8260\n",
      "Epoch 12/1000\n",
      "6000/6000 [==============================] - 1s 105us/sample - loss: 0.4325 - accuracy: 0.8143 - val_loss: 0.4135 - val_accuracy: 0.8280\n",
      "Epoch 13/1000\n",
      "6000/6000 [==============================] - 1s 109us/sample - loss: 0.4303 - accuracy: 0.8168 - val_loss: 0.4106 - val_accuracy: 0.8267\n",
      "Epoch 14/1000\n",
      "6000/6000 [==============================] - 1s 116us/sample - loss: 0.4276 - accuracy: 0.8175 - val_loss: 0.4110 - val_accuracy: 0.8233\n",
      "Epoch 15/1000\n",
      "6000/6000 [==============================] - 1s 109us/sample - loss: 0.4264 - accuracy: 0.8170 - val_loss: 0.4073 - val_accuracy: 0.8287\n",
      "Epoch 16/1000\n",
      "6000/6000 [==============================] - 1s 95us/sample - loss: 0.4245 - accuracy: 0.8183 - val_loss: 0.4060 - val_accuracy: 0.8293\n",
      "Epoch 17/1000\n",
      "6000/6000 [==============================] - 1s 85us/sample - loss: 0.4236 - accuracy: 0.8195 - val_loss: 0.4055 - val_accuracy: 0.8307\n",
      "Epoch 18/1000\n",
      "6000/6000 [==============================] - 0s 80us/sample - loss: 0.4221 - accuracy: 0.8200 - val_loss: 0.4045 - val_accuracy: 0.8320\n",
      "Epoch 19/1000\n",
      "6000/6000 [==============================] - 0s 82us/sample - loss: 0.4203 - accuracy: 0.8212 - val_loss: 0.4049 - val_accuracy: 0.8300\n",
      "Epoch 20/1000\n",
      "6000/6000 [==============================] - 1s 94us/sample - loss: 0.4192 - accuracy: 0.8238 - val_loss: 0.4026 - val_accuracy: 0.8327\n",
      "Epoch 21/1000\n",
      "6000/6000 [==============================] - 1s 87us/sample - loss: 0.4177 - accuracy: 0.8247 - val_loss: 0.3987 - val_accuracy: 0.8293\n",
      "Epoch 22/1000\n",
      "6000/6000 [==============================] - ETA: 0s - loss: 0.4159 - accuracy: 0.82 - 0s 81us/sample - loss: 0.4160 - accuracy: 0.8260 - val_loss: 0.3982 - val_accuracy: 0.8293\n",
      "Epoch 23/1000\n",
      "6000/6000 [==============================] - 1s 85us/sample - loss: 0.4148 - accuracy: 0.8257 - val_loss: 0.3966 - val_accuracy: 0.8313\n",
      "Epoch 24/1000\n",
      "6000/6000 [==============================] - 1s 88us/sample - loss: 0.4138 - accuracy: 0.8257 - val_loss: 0.3968 - val_accuracy: 0.8320\n",
      "Epoch 25/1000\n",
      "6000/6000 [==============================] - 1s 89us/sample - loss: 0.4127 - accuracy: 0.8272 - val_loss: 0.3945 - val_accuracy: 0.8333\n",
      "Epoch 26/1000\n",
      "6000/6000 [==============================] - 1s 86us/sample - loss: 0.4107 - accuracy: 0.8288 - val_loss: 0.3942 - val_accuracy: 0.8373\n",
      "Epoch 27/1000\n",
      "6000/6000 [==============================] - 1s 84us/sample - loss: 0.4099 - accuracy: 0.8300 - val_loss: 0.3930 - val_accuracy: 0.8327\n",
      "Epoch 28/1000\n",
      "6000/6000 [==============================] - 1s 84us/sample - loss: 0.4084 - accuracy: 0.8302 - val_loss: 0.3922 - val_accuracy: 0.8320\n",
      "Epoch 29/1000\n",
      "6000/6000 [==============================] - 0s 83us/sample - loss: 0.4073 - accuracy: 0.8312 - val_loss: 0.3902 - val_accuracy: 0.8400\n",
      "Epoch 30/1000\n",
      "6000/6000 [==============================] - 1s 87us/sample - loss: 0.4064 - accuracy: 0.8325 - val_loss: 0.3893 - val_accuracy: 0.8407\n",
      "Epoch 31/1000\n",
      "6000/6000 [==============================] - 1s 87us/sample - loss: 0.4054 - accuracy: 0.8323 - val_loss: 0.3880 - val_accuracy: 0.8400\n",
      "Epoch 32/1000\n",
      "6000/6000 [==============================] - 1s 88us/sample - loss: 0.4045 - accuracy: 0.8328 - val_loss: 0.3878 - val_accuracy: 0.8400\n",
      "Epoch 33/1000\n",
      "6000/6000 [==============================] - 1s 86us/sample - loss: 0.4038 - accuracy: 0.8323 - val_loss: 0.3871 - val_accuracy: 0.8420\n",
      "Epoch 34/1000\n",
      "6000/6000 [==============================] - ETA: 0s - loss: 0.4007 - accuracy: 0.83 - 1s 87us/sample - loss: 0.4025 - accuracy: 0.8320 - val_loss: 0.3861 - val_accuracy: 0.8433\n",
      "Epoch 35/1000\n",
      "6000/6000 [==============================] - 1s 85us/sample - loss: 0.4022 - accuracy: 0.8328 - val_loss: 0.3857 - val_accuracy: 0.8433\n",
      "Epoch 36/1000\n",
      "6000/6000 [==============================] - 1s 90us/sample - loss: 0.4012 - accuracy: 0.8355 - val_loss: 0.3842 - val_accuracy: 0.8420\n",
      "Epoch 37/1000\n",
      "6000/6000 [==============================] - 1s 101us/sample - loss: 0.4011 - accuracy: 0.8348 - val_loss: 0.3848 - val_accuracy: 0.8413\n",
      "Epoch 38/1000\n",
      "6000/6000 [==============================] - 1s 88us/sample - loss: 0.4001 - accuracy: 0.8350 - val_loss: 0.3840 - val_accuracy: 0.8447\n",
      "Epoch 39/1000\n",
      "6000/6000 [==============================] - 1s 90us/sample - loss: 0.3992 - accuracy: 0.8358 - val_loss: 0.3850 - val_accuracy: 0.8413\n",
      "Epoch 40/1000\n",
      "6000/6000 [==============================] - 1s 85us/sample - loss: 0.3991 - accuracy: 0.8353 - val_loss: 0.3831 - val_accuracy: 0.8447\n",
      "Epoch 41/1000\n",
      "6000/6000 [==============================] - 1s 86us/sample - loss: 0.3979 - accuracy: 0.8367 - val_loss: 0.3863 - val_accuracy: 0.8413\n",
      "Epoch 42/1000\n",
      "6000/6000 [==============================] - 0s 83us/sample - loss: 0.3967 - accuracy: 0.8347 - val_loss: 0.3823 - val_accuracy: 0.8460\n",
      "Epoch 43/1000\n",
      "6000/6000 [==============================] - 1s 91us/sample - loss: 0.3968 - accuracy: 0.8362 - val_loss: 0.3817 - val_accuracy: 0.8467\n",
      "Epoch 44/1000\n",
      "6000/6000 [==============================] - 0s 83us/sample - loss: 0.3954 - accuracy: 0.8375 - val_loss: 0.3814 - val_accuracy: 0.8487\n",
      "Epoch 45/1000\n",
      "6000/6000 [==============================] - 0s 82us/sample - loss: 0.3950 - accuracy: 0.8378 - val_loss: 0.3816 - val_accuracy: 0.8440\n",
      "Epoch 46/1000\n",
      "6000/6000 [==============================] - 0s 82us/sample - loss: 0.3943 - accuracy: 0.8387 - val_loss: 0.3800 - val_accuracy: 0.8467\n",
      "Epoch 47/1000\n",
      "6000/6000 [==============================] - 1s 84us/sample - loss: 0.3937 - accuracy: 0.8378 - val_loss: 0.3799 - val_accuracy: 0.8500\n",
      "Epoch 48/1000\n",
      "6000/6000 [==============================] - 1s 83us/sample - loss: 0.3938 - accuracy: 0.8380 - val_loss: 0.3806 - val_accuracy: 0.8507\n",
      "Epoch 49/1000\n",
      "6000/6000 [==============================] - 1s 86us/sample - loss: 0.3929 - accuracy: 0.8395 - val_loss: 0.3801 - val_accuracy: 0.8480\n",
      "Epoch 50/1000\n",
      "6000/6000 [==============================] - 1s 85us/sample - loss: 0.3918 - accuracy: 0.8390 - val_loss: 0.3798 - val_accuracy: 0.8487\n",
      "Epoch 51/1000\n",
      "6000/6000 [==============================] - 1s 83us/sample - loss: 0.3915 - accuracy: 0.8390 - val_loss: 0.3796 - val_accuracy: 0.8487\n",
      "Epoch 52/1000\n",
      "6000/6000 [==============================] - 0s 83us/sample - loss: 0.3903 - accuracy: 0.8387 - val_loss: 0.3793 - val_accuracy: 0.8500\n",
      "Epoch 53/1000\n",
      "6000/6000 [==============================] - 0s 81us/sample - loss: 0.3909 - accuracy: 0.8372 - val_loss: 0.3769 - val_accuracy: 0.8507\n",
      "Epoch 54/1000\n",
      "6000/6000 [==============================] - 0s 82us/sample - loss: 0.3893 - accuracy: 0.8395 - val_loss: 0.3764 - val_accuracy: 0.8527\n"
     ]
    },
    {
     "name": "stdout",
     "output_type": "stream",
     "text": [
      "Epoch 55/1000\n",
      "6000/6000 [==============================] - 0s 82us/sample - loss: 0.3888 - accuracy: 0.8393 - val_loss: 0.3771 - val_accuracy: 0.8507\n",
      "Epoch 56/1000\n",
      "6000/6000 [==============================] - 1s 87us/sample - loss: 0.3886 - accuracy: 0.8422 - val_loss: 0.3762 - val_accuracy: 0.8520\n",
      "Epoch 57/1000\n",
      "6000/6000 [==============================] - 1s 90us/sample - loss: 0.3884 - accuracy: 0.8412 - val_loss: 0.3748 - val_accuracy: 0.8527\n",
      "Epoch 58/1000\n",
      "6000/6000 [==============================] - 1s 93us/sample - loss: 0.3866 - accuracy: 0.8427 - val_loss: 0.3750 - val_accuracy: 0.8520\n",
      "Epoch 59/1000\n",
      "6000/6000 [==============================] - 1s 97us/sample - loss: 0.3861 - accuracy: 0.8442 - val_loss: 0.3777 - val_accuracy: 0.8507\n",
      "Epoch 60/1000\n",
      "6000/6000 [==============================] - 1s 89us/sample - loss: 0.3865 - accuracy: 0.8423 - val_loss: 0.3736 - val_accuracy: 0.8520\n",
      "Epoch 61/1000\n",
      "6000/6000 [==============================] - 1s 88us/sample - loss: 0.3844 - accuracy: 0.8450 - val_loss: 0.3725 - val_accuracy: 0.8507\n",
      "Epoch 62/1000\n",
      "6000/6000 [==============================] - 1s 84us/sample - loss: 0.3837 - accuracy: 0.8457 - val_loss: 0.3715 - val_accuracy: 0.8540\n",
      "Epoch 63/1000\n",
      "6000/6000 [==============================] - 1s 95us/sample - loss: 0.3828 - accuracy: 0.8435 - val_loss: 0.3707 - val_accuracy: 0.8533\n",
      "Epoch 64/1000\n",
      "6000/6000 [==============================] - 1s 101us/sample - loss: 0.3817 - accuracy: 0.8425 - val_loss: 0.3709 - val_accuracy: 0.8527\n",
      "Epoch 65/1000\n",
      "6000/6000 [==============================] - 1s 97us/sample - loss: 0.3807 - accuracy: 0.8478 - val_loss: 0.3688 - val_accuracy: 0.8513\n",
      "Epoch 66/1000\n",
      "6000/6000 [==============================] - 1s 115us/sample - loss: 0.3791 - accuracy: 0.8478 - val_loss: 0.3681 - val_accuracy: 0.8547\n",
      "Epoch 67/1000\n",
      "6000/6000 [==============================] - 1s 99us/sample - loss: 0.3782 - accuracy: 0.8472 - val_loss: 0.3668 - val_accuracy: 0.8567\n",
      "Epoch 68/1000\n",
      "6000/6000 [==============================] - 1s 101us/sample - loss: 0.3767 - accuracy: 0.8465 - val_loss: 0.3642 - val_accuracy: 0.8573\n",
      "Epoch 69/1000\n",
      "6000/6000 [==============================] - 1s 98us/sample - loss: 0.3755 - accuracy: 0.8485 - val_loss: 0.3645 - val_accuracy: 0.8573\n",
      "Epoch 70/1000\n",
      "6000/6000 [==============================] - 1s 103us/sample - loss: 0.3738 - accuracy: 0.8493 - val_loss: 0.3676 - val_accuracy: 0.8547\n",
      "Epoch 71/1000\n",
      "6000/6000 [==============================] - 1s 107us/sample - loss: 0.3734 - accuracy: 0.8478 - val_loss: 0.3617 - val_accuracy: 0.8567\n",
      "Epoch 72/1000\n",
      "6000/6000 [==============================] - 1s 118us/sample - loss: 0.3714 - accuracy: 0.8493 - val_loss: 0.3608 - val_accuracy: 0.8580\n",
      "Epoch 73/1000\n",
      "6000/6000 [==============================] - 1s 108us/sample - loss: 0.3706 - accuracy: 0.8498 - val_loss: 0.3589 - val_accuracy: 0.8613\n",
      "Epoch 74/1000\n",
      "6000/6000 [==============================] - 1s 109us/sample - loss: 0.3686 - accuracy: 0.8537 - val_loss: 0.3560 - val_accuracy: 0.8600\n",
      "Epoch 75/1000\n",
      "6000/6000 [==============================] - 1s 105us/sample - loss: 0.3673 - accuracy: 0.8515 - val_loss: 0.3550 - val_accuracy: 0.8553\n",
      "Epoch 76/1000\n",
      "6000/6000 [==============================] - 1s 106us/sample - loss: 0.3654 - accuracy: 0.8545 - val_loss: 0.3529 - val_accuracy: 0.8540\n",
      "Epoch 77/1000\n",
      "6000/6000 [==============================] - 1s 88us/sample - loss: 0.3649 - accuracy: 0.8528 - val_loss: 0.3515 - val_accuracy: 0.8587\n",
      "Epoch 78/1000\n",
      "6000/6000 [==============================] - 1s 96us/sample - loss: 0.3625 - accuracy: 0.8540 - val_loss: 0.3498 - val_accuracy: 0.8593\n",
      "Epoch 79/1000\n",
      "6000/6000 [==============================] - 1s 87us/sample - loss: 0.3615 - accuracy: 0.8527 - val_loss: 0.3497 - val_accuracy: 0.8627\n",
      "Epoch 80/1000\n",
      "6000/6000 [==============================] - 1s 87us/sample - loss: 0.3605 - accuracy: 0.8533 - val_loss: 0.3464 - val_accuracy: 0.8580\n",
      "Epoch 81/1000\n",
      "6000/6000 [==============================] - 1s 87us/sample - loss: 0.3601 - accuracy: 0.8560 - val_loss: 0.3460 - val_accuracy: 0.8560\n",
      "Epoch 82/1000\n",
      "6000/6000 [==============================] - 1s 84us/sample - loss: 0.3583 - accuracy: 0.8533 - val_loss: 0.3467 - val_accuracy: 0.8587\n",
      "Epoch 83/1000\n",
      "6000/6000 [==============================] - 1s 92us/sample - loss: 0.3580 - accuracy: 0.8552 - val_loss: 0.3427 - val_accuracy: 0.8560\n",
      "Epoch 84/1000\n",
      "6000/6000 [==============================] - 1s 87us/sample - loss: 0.3571 - accuracy: 0.8542 - val_loss: 0.3436 - val_accuracy: 0.8567\n",
      "Epoch 85/1000\n",
      "6000/6000 [==============================] - 0s 81us/sample - loss: 0.3562 - accuracy: 0.8542 - val_loss: 0.3435 - val_accuracy: 0.8593\n",
      "Epoch 86/1000\n",
      "6000/6000 [==============================] - 1s 85us/sample - loss: 0.3557 - accuracy: 0.8548 - val_loss: 0.3445 - val_accuracy: 0.8580\n",
      "Epoch 87/1000\n",
      "6000/6000 [==============================] - 1s 97us/sample - loss: 0.3556 - accuracy: 0.8553 - val_loss: 0.3444 - val_accuracy: 0.8553\n",
      "Epoch 88/1000\n",
      "6000/6000 [==============================] - 1s 91us/sample - loss: 0.3549 - accuracy: 0.8537 - val_loss: 0.3408 - val_accuracy: 0.8587\n",
      "Epoch 89/1000\n",
      "6000/6000 [==============================] - 1s 85us/sample - loss: 0.3547 - accuracy: 0.8548 - val_loss: 0.3449 - val_accuracy: 0.8573\n",
      "Epoch 90/1000\n",
      "6000/6000 [==============================] - 1s 91us/sample - loss: 0.3550 - accuracy: 0.8543 - val_loss: 0.3413 - val_accuracy: 0.8560\n",
      "Epoch 91/1000\n",
      "6000/6000 [==============================] - 1s 91us/sample - loss: 0.3542 - accuracy: 0.8547 - val_loss: 0.3405 - val_accuracy: 0.8580\n",
      "Epoch 92/1000\n",
      "6000/6000 [==============================] - 1s 99us/sample - loss: 0.3542 - accuracy: 0.8538 - val_loss: 0.3395 - val_accuracy: 0.8567\n",
      "Epoch 93/1000\n",
      "6000/6000 [==============================] - 1s 94us/sample - loss: 0.3537 - accuracy: 0.8548 - val_loss: 0.3393 - val_accuracy: 0.8567\n",
      "Epoch 94/1000\n",
      "6000/6000 [==============================] - 1s 91us/sample - loss: 0.3538 - accuracy: 0.8528 - val_loss: 0.3410 - val_accuracy: 0.8607\n",
      "Epoch 95/1000\n",
      "6000/6000 [==============================] - 1s 104us/sample - loss: 0.3531 - accuracy: 0.8552 - val_loss: 0.3406 - val_accuracy: 0.8633\n",
      "Epoch 96/1000\n",
      "6000/6000 [==============================] - 0s 83us/sample - loss: 0.3520 - accuracy: 0.8543 - val_loss: 0.3383 - val_accuracy: 0.8607\n",
      "Epoch 97/1000\n",
      "6000/6000 [==============================] - 1s 87us/sample - loss: 0.3526 - accuracy: 0.8560 - val_loss: 0.3393 - val_accuracy: 0.8567\n",
      "Epoch 98/1000\n",
      "6000/6000 [==============================] - 1s 91us/sample - loss: 0.3527 - accuracy: 0.8552 - val_loss: 0.3388 - val_accuracy: 0.8580\n",
      "Epoch 99/1000\n",
      "6000/6000 [==============================] - 1s 90us/sample - loss: 0.3525 - accuracy: 0.8543 - val_loss: 0.3395 - val_accuracy: 0.8593\n",
      "Epoch 100/1000\n",
      "6000/6000 [==============================] - 1s 89us/sample - loss: 0.3520 - accuracy: 0.8552 - val_loss: 0.3419 - val_accuracy: 0.8613\n",
      "Epoch 101/1000\n",
      "6000/6000 [==============================] - 1s 90us/sample - loss: 0.3520 - accuracy: 0.8537 - val_loss: 0.3401 - val_accuracy: 0.8587\n",
      "Epoch 102/1000\n",
      "6000/6000 [==============================] - 1s 88us/sample - loss: 0.3508 - accuracy: 0.8560 - val_loss: 0.3408 - val_accuracy: 0.8600\n",
      "Epoch 103/1000\n",
      "6000/6000 [==============================] - 1s 86us/sample - loss: 0.3509 - accuracy: 0.8553 - val_loss: 0.3404 - val_accuracy: 0.8593\n",
      "Epoch 104/1000\n",
      "6000/6000 [==============================] - 1s 86us/sample - loss: 0.3509 - accuracy: 0.8565 - val_loss: 0.3383 - val_accuracy: 0.8580\n",
      "Epoch 105/1000\n",
      "6000/6000 [==============================] - 1s 90us/sample - loss: 0.3516 - accuracy: 0.8555 - val_loss: 0.3409 - val_accuracy: 0.8593\n",
      "Epoch 106/1000\n",
      "6000/6000 [==============================] - 1s 90us/sample - loss: 0.3509 - accuracy: 0.8552 - val_loss: 0.3405 - val_accuracy: 0.8647\n",
      "Epoch 107/1000\n",
      "6000/6000 [==============================] - 1s 102us/sample - loss: 0.3512 - accuracy: 0.8550 - val_loss: 0.3388 - val_accuracy: 0.8587\n",
      "Epoch 108/1000\n",
      "6000/6000 [==============================] - 1s 101us/sample - loss: 0.3499 - accuracy: 0.8560 - val_loss: 0.3388 - val_accuracy: 0.8567\n",
      "Epoch 109/1000\n"
     ]
    },
    {
     "name": "stdout",
     "output_type": "stream",
     "text": [
      "6000/6000 [==============================] - 1s 90us/sample - loss: 0.3493 - accuracy: 0.8582 - val_loss: 0.3399 - val_accuracy: 0.8627\n",
      "Epoch 110/1000\n",
      "6000/6000 [==============================] - 1s 98us/sample - loss: 0.3505 - accuracy: 0.8563 - val_loss: 0.3380 - val_accuracy: 0.8587\n",
      "Epoch 111/1000\n",
      "6000/6000 [==============================] - 0s 83us/sample - loss: 0.3504 - accuracy: 0.8550 - val_loss: 0.3369 - val_accuracy: 0.8593\n",
      "Epoch 112/1000\n",
      "6000/6000 [==============================] - 1s 89us/sample - loss: 0.3504 - accuracy: 0.8572 - val_loss: 0.3380 - val_accuracy: 0.8607\n",
      "Epoch 113/1000\n",
      "6000/6000 [==============================] - 0s 82us/sample - loss: 0.3498 - accuracy: 0.8577 - val_loss: 0.3363 - val_accuracy: 0.8607\n",
      "Epoch 114/1000\n",
      "6000/6000 [==============================] - 1s 98us/sample - loss: 0.3498 - accuracy: 0.8560 - val_loss: 0.3403 - val_accuracy: 0.8560\n",
      "Epoch 115/1000\n",
      "6000/6000 [==============================] - 1s 101us/sample - loss: 0.3499 - accuracy: 0.8568 - val_loss: 0.3365 - val_accuracy: 0.8587\n",
      "Epoch 116/1000\n",
      "6000/6000 [==============================] - 1s 93us/sample - loss: 0.3489 - accuracy: 0.8573 - val_loss: 0.3366 - val_accuracy: 0.8600\n",
      "Epoch 117/1000\n",
      "6000/6000 [==============================] - 0s 82us/sample - loss: 0.3491 - accuracy: 0.8555 - val_loss: 0.3367 - val_accuracy: 0.8580\n",
      "Epoch 118/1000\n",
      "6000/6000 [==============================] - 0s 82us/sample - loss: 0.3490 - accuracy: 0.8578 - val_loss: 0.3371 - val_accuracy: 0.8580\n",
      "Epoch 119/1000\n",
      "6000/6000 [==============================] - 0s 80us/sample - loss: 0.3483 - accuracy: 0.8573 - val_loss: 0.3395 - val_accuracy: 0.8560\n",
      "Epoch 120/1000\n",
      "6000/6000 [==============================] - 0s 83us/sample - loss: 0.3491 - accuracy: 0.8555 - val_loss: 0.3384 - val_accuracy: 0.8600\n",
      "Epoch 121/1000\n",
      "6000/6000 [==============================] - 1s 103us/sample - loss: 0.3490 - accuracy: 0.8563 - val_loss: 0.3377 - val_accuracy: 0.8587\n",
      "Epoch 122/1000\n",
      "6000/6000 [==============================] - 1s 88us/sample - loss: 0.3487 - accuracy: 0.8572 - val_loss: 0.3409 - val_accuracy: 0.8567\n",
      "Epoch 123/1000\n",
      "6000/6000 [==============================] - 1s 95us/sample - loss: 0.3492 - accuracy: 0.8555 - val_loss: 0.3360 - val_accuracy: 0.8573\n",
      "Epoch 124/1000\n",
      "6000/6000 [==============================] - 1s 101us/sample - loss: 0.3489 - accuracy: 0.8545 - val_loss: 0.3376 - val_accuracy: 0.8580\n",
      "Epoch 125/1000\n",
      "6000/6000 [==============================] - 1s 99us/sample - loss: 0.3488 - accuracy: 0.8578 - val_loss: 0.3367 - val_accuracy: 0.8593\n",
      "Epoch 126/1000\n",
      "6000/6000 [==============================] - 1s 91us/sample - loss: 0.3480 - accuracy: 0.8563 - val_loss: 0.3409 - val_accuracy: 0.8547\n",
      "Epoch 127/1000\n",
      "6000/6000 [==============================] - 1s 92us/sample - loss: 0.3484 - accuracy: 0.8563 - val_loss: 0.3427 - val_accuracy: 0.8587\n",
      "Epoch 128/1000\n",
      "6000/6000 [==============================] - 1s 105us/sample - loss: 0.3502 - accuracy: 0.8578 - val_loss: 0.3393 - val_accuracy: 0.8580\n",
      "Epoch 129/1000\n",
      "6000/6000 [==============================] - 1s 94us/sample - loss: 0.3479 - accuracy: 0.8563 - val_loss: 0.3390 - val_accuracy: 0.8600\n",
      "Epoch 130/1000\n",
      "6000/6000 [==============================] - 1s 103us/sample - loss: 0.3488 - accuracy: 0.8563 - val_loss: 0.3389 - val_accuracy: 0.8593\n",
      "Epoch 131/1000\n",
      "6000/6000 [==============================] - 1s 95us/sample - loss: 0.3484 - accuracy: 0.8548 - val_loss: 0.3394 - val_accuracy: 0.8580\n",
      "Epoch 132/1000\n",
      "6000/6000 [==============================] - 1s 91us/sample - loss: 0.3478 - accuracy: 0.8577 - val_loss: 0.3364 - val_accuracy: 0.8620\n",
      "Epoch 133/1000\n",
      "6000/6000 [==============================] - 1s 99us/sample - loss: 0.3477 - accuracy: 0.8562 - val_loss: 0.3371 - val_accuracy: 0.8587\n",
      "Epoch 134/1000\n",
      "6000/6000 [==============================] - 1s 96us/sample - loss: 0.3481 - accuracy: 0.8602 - val_loss: 0.3387 - val_accuracy: 0.8600\n",
      "Epoch 135/1000\n",
      "6000/6000 [==============================] - 1s 85us/sample - loss: 0.3475 - accuracy: 0.8575 - val_loss: 0.3396 - val_accuracy: 0.8607\n",
      "Epoch 136/1000\n",
      "6000/6000 [==============================] - 1s 83us/sample - loss: 0.3479 - accuracy: 0.8580 - val_loss: 0.3400 - val_accuracy: 0.8593\n",
      "Epoch 137/1000\n",
      "6000/6000 [==============================] - 1s 83us/sample - loss: 0.3482 - accuracy: 0.8577 - val_loss: 0.3373 - val_accuracy: 0.8600\n",
      "Epoch 138/1000\n",
      "6000/6000 [==============================] - 0s 81us/sample - loss: 0.3485 - accuracy: 0.8568 - val_loss: 0.3414 - val_accuracy: 0.8600\n",
      "Epoch 139/1000\n",
      "6000/6000 [==============================] - 0s 83us/sample - loss: 0.3480 - accuracy: 0.8578 - val_loss: 0.3389 - val_accuracy: 0.8573\n",
      "Epoch 140/1000\n",
      "6000/6000 [==============================] - 0s 82us/sample - loss: 0.3470 - accuracy: 0.8570 - val_loss: 0.3389 - val_accuracy: 0.8600\n",
      "Epoch 141/1000\n",
      "6000/6000 [==============================] - 0s 80us/sample - loss: 0.3476 - accuracy: 0.8567 - val_loss: 0.3412 - val_accuracy: 0.8593\n",
      "Epoch 142/1000\n",
      "6000/6000 [==============================] - 1s 84us/sample - loss: 0.3486 - accuracy: 0.8578 - val_loss: 0.3407 - val_accuracy: 0.8593\n",
      "Epoch 143/1000\n",
      "6000/6000 [==============================] - 0s 83us/sample - loss: 0.3469 - accuracy: 0.8573 - val_loss: 0.3400 - val_accuracy: 0.8593\n",
      "Epoch 144/1000\n",
      "6000/6000 [==============================] - 0s 83us/sample - loss: 0.3472 - accuracy: 0.8592 - val_loss: 0.3378 - val_accuracy: 0.8600\n",
      "Epoch 145/1000\n",
      "6000/6000 [==============================] - 1s 85us/sample - loss: 0.3478 - accuracy: 0.8593 - val_loss: 0.3401 - val_accuracy: 0.8627\n",
      "Epoch 146/1000\n",
      "6000/6000 [==============================] - 0s 81us/sample - loss: 0.3470 - accuracy: 0.8567 - val_loss: 0.3377 - val_accuracy: 0.8627\n",
      "Epoch 147/1000\n",
      "6000/6000 [==============================] - 0s 83us/sample - loss: 0.3468 - accuracy: 0.8565 - val_loss: 0.3409 - val_accuracy: 0.8573\n",
      "Epoch 148/1000\n",
      "6000/6000 [==============================] - 0s 80us/sample - loss: 0.3473 - accuracy: 0.8582 - val_loss: 0.3383 - val_accuracy: 0.8627\n",
      "Epoch 00148: early stopping\n"
     ]
    },
    {
     "data": {
      "text/plain": [
       "<tensorflow.python.keras.callbacks.History at 0x1dc3114c388>"
      ]
     },
     "execution_count": 31,
     "metadata": {},
     "output_type": "execute_result"
    }
   ],
   "source": [
    "model.fit(X_train,y_train,batch_size = 32,epochs=1000,validation_split = 0.2, callbacks=[early_stop])"
   ]
  },
  {
   "cell_type": "code",
   "execution_count": 32,
   "metadata": {},
   "outputs": [],
   "source": [
    "losses = pd.DataFrame(model.history.history)"
   ]
  },
  {
   "cell_type": "code",
   "execution_count": 33,
   "metadata": {},
   "outputs": [
    {
     "data": {
      "text/plain": [
       "<matplotlib.axes._subplots.AxesSubplot at 0x1dc318ca488>"
      ]
     },
     "execution_count": 33,
     "metadata": {},
     "output_type": "execute_result"
    },
    {
     "data": {
      "image/png": "[encoded data removed]",
      "text/plain": [
       "<Figure size 432x288 with 1 Axes>"
      ]
     },
     "metadata": {
      "needs_background": "light"
     },
     "output_type": "display_data"
    }
   ],
   "source": [
    "losses.plot()"
   ]
  },
  {
   "cell_type": "code",
   "execution_count": 34,
   "metadata": {},
   "outputs": [],
   "source": [
    "predictions = model.predict_classes(X_test)"
   ]
  },
  {
   "cell_type": "code",
   "execution_count": 35,
   "metadata": {},
   "outputs": [
    {
     "name": "stdout",
     "output_type": "stream",
     "text": [
      "              precision    recall  f1-score   support\n",
      "\n",
      "           0       0.88      0.95      0.91      1975\n",
      "           1       0.74      0.49      0.59       525\n",
      "\n",
      "    accuracy                           0.86      2500\n",
      "   macro avg       0.81      0.72      0.75      2500\n",
      "weighted avg       0.85      0.86      0.85      2500\n",
      "\n",
      "[[1883   92]\n",
      " [ 266  259]]\n",
      "\n",
      "Accuracy: 0.86\n"
     ]
    }
   ],
   "source": [
    "print(metrics.classification_report(y_test,predictions))\n",
    "print(metrics.confusion_matrix(y_test,predictions))\n",
    "print('')\n",
    "print('Accuracy:', metrics.accuracy_score(y_test,predictions).round(2))"
   ]
  },
  {
   "cell_type": "markdown",
   "metadata": {},
   "source": [
    "Artificial neural networks performed better than logistic regression by 5%. "
   ]
  },
  {
   "cell_type": "markdown",
   "metadata": {},
   "source": [
    "### 8. Making a single prediction"
   ]
  },
  {
   "cell_type": "code",
   "execution_count": 36,
   "metadata": {},
   "outputs": [],
   "source": [
    "from random import randint"
   ]
  },
  {
   "cell_type": "code",
   "execution_count": 37,
   "metadata": {},
   "outputs": [],
   "source": [
    "rand_int = randint(0,len(df))"
   ]
  },
  {
   "cell_type": "code",
   "execution_count": 38,
   "metadata": {},
   "outputs": [],
   "source": [
    "random_customer = df.iloc[rand_int]"
   ]
  },
  {
   "cell_type": "code",
   "execution_count": 39,
   "metadata": {},
   "outputs": [
    {
     "data": {
      "text/plain": [
       "Geography_Germany         0.00\n",
       "Geography_Spain           0.00\n",
       "Gender_Male               1.00\n",
       "CreditScore             665.00\n",
       "Age                      33.00\n",
       "Tenure                    2.00\n",
       "Balance              101286.11\n",
       "NumOfProducts             1.00\n",
       "HasCrCard                 1.00\n",
       "IsActiveMember            1.00\n",
       "EstimatedSalary      159840.51\n",
       "Exited                    0.00\n",
       "Name: 2147, dtype: float64"
      ]
     },
     "execution_count": 39,
     "metadata": {},
     "output_type": "execute_result"
    }
   ],
   "source": [
    "random_customer"
   ]
  },
  {
   "cell_type": "markdown",
   "metadata": {},
   "source": [
    "As an example, we will use our deep learning model to predict if a 33 year old male customer from france has exited the bank. "
   ]
  },
  {
   "cell_type": "code",
   "execution_count": 40,
   "metadata": {},
   "outputs": [],
   "source": [
    "random_customer = random_customer[:-1].values.reshape(1,11)"
   ]
  },
  {
   "cell_type": "code",
   "execution_count": 41,
   "metadata": {},
   "outputs": [],
   "source": [
    "label = ['Stayed','Exited']"
   ]
  },
  {
   "cell_type": "code",
   "execution_count": 42,
   "metadata": {},
   "outputs": [
    {
     "name": "stdout",
     "output_type": "stream",
     "text": [
      "Predicted:  Stayed\n",
      "Actual:     Stayed\n"
     ]
    }
   ],
   "source": [
    "print('Predicted: ',label[int(model.predict_classes(random_customer))])\n",
    "print('Actual:    ',label[df['Exited'][rand_int]])"
   ]
  },
  {
   "cell_type": "code",
   "execution_count": null,
   "metadata": {},
   "outputs": [],
   "source": []
  }
 ],
 "metadata": {
  "kernelspec": {
   "display_name": "Python 3",
   "language": "python",
   "name": "python3"
  },
  "language_info": {
   "codemirror_mode": {
    "name": "ipython",
    "version": 3
   },
   "file_extension": ".py",
   "mimetype": "text/x-python",
   "name": "python",
   "nbconvert_exporter": "python",
   "pygments_lexer": "ipython3",
   "version": "3.7.6"
  }
 },
 "nbformat": 4,
 "nbformat_minor": 4
}
